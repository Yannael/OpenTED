{
 "cells": [
  {
   "cell_type": "markdown",
   "metadata": {},
   "source": [
    "# Preprocessing of TED CAN (contract award notices) CSV files"
   ]
  },
  {
   "cell_type": "code",
   "execution_count": 1,
   "metadata": {
    "collapsed": false
   },
   "outputs": [
    {
     "data": {
      "text/plain": [
       "DataFrame[key: string, value: string]"
      ]
     },
     "execution_count": 1,
     "metadata": {},
     "output_type": "execute_result"
    }
   ],
   "source": [
    "from pyspark import SparkContext, SparkConf\n",
    "from pyspark.sql import SQLContext, Row\n",
    "from pyspark.sql import HiveContext\n",
    "import json\n",
    "import time\n",
    "import sys\n",
    "from datetime import datetime\n",
    "from pyspark.sql.types import *\n",
    "import re\n",
    "\n",
    "nPartitions=4\n",
    "conf = (SparkConf()\n",
    "         .setMaster(\"local[\"+str(nPartitions)+\"]\")\n",
    "#         .setAppName(analysisName)\n",
    "       )\n",
    "sc.stop()\n",
    "sc = SparkContext(conf=conf)\n",
    "sqlContext = SQLContext(sc)\n",
    "sqlContext.sql(\"SET spark.sql.parquet.binaryAsString=true\")\n"
   ]
  },
  {
   "cell_type": "markdown",
   "metadata": {},
   "source": [
    "## Load country code file\n",
    "Used to match country ISO codes to country full names"
   ]
  },
  {
   "cell_type": "code",
   "execution_count": 32,
   "metadata": {
    "collapsed": true
   },
   "outputs": [],
   "source": [
    "countryCodesRaw = [line.rstrip() for line in open('data/countrycodes.csv')]"
   ]
  },
  {
   "cell_type": "code",
   "execution_count": 33,
   "metadata": {
    "collapsed": false
   },
   "outputs": [],
   "source": [
    "countryCodes = {}\n",
    "for i in range(len(countryCodesRaw)):\n",
    "    code_country=countryCodesRaw[i].split(' - ')\n",
    "    countryCodes[code_country[0]] = code_country[1]\n",
    "countryCodes['']=''"
   ]
  },
  {
   "cell_type": "markdown",
   "metadata": {},
   "source": [
    "## CSV row processor and schema\n",
    "Convert CSV rows to nicer format and schema"
   ]
  },
  {
   "cell_type": "code",
   "execution_count": 57,
   "metadata": {
    "collapsed": false
   },
   "outputs": [],
   "source": [
    "def process(row):\n",
    "    \n",
    "    dispatch_date=datetime.strptime(row['DT_DISPATCH'], '%d-%b-%y').strftime('%Y-%m-%d')\n",
    "    award_notice_id=row['ID_NOTICE_CAN'].strip()\n",
    "    award_notice_id=award_notice_id[4:]+'-'+award_notice_id[0:4]\n",
    "    award_notice_id_link=\"<a href='http://ted.europa.eu/udl?uri=TED:NOTICE:\"+award_notice_id+\":TEXT:EN:HTML' target='_blank'>\"+award_notice_id+\"</a>\"\n",
    "    \n",
    "    contracting_authority_country=countryCodes[row['ISO_COUNTRY_CODE'].strip()]\n",
    "    contracting_authority_name=row['CAE_NAME'].replace (\"_\", \"-\").strip()\n",
    "    \n",
    "    contractor_country=countryCodes[row['WIN_COUNTRY_CODE'].strip()]\n",
    "    contractor_name=row['WIN_NAME'].replace (\"_\", \"-\").strip()\n",
    "    \n",
    "    contract_value_euros=None if row['AWARD_VALUE_EURO']=='' else int(float(row['AWARD_VALUE_EURO']))\n",
    "    number_offers_received=None if row['NUMBER_OFFERS']=='' else int(row['NUMBER_OFFERS'])\n",
    "    \n",
    "    CPV_code=row['CPV'].strip()\n",
    "    \n",
    "    YEAR=None if row['YEAR']=='' else int(row['YEAR'])\n",
    "    ID_TYPE=row['ID_TYPE'].strip()\n",
    "    XSD_VERSION=row['XSD_VERSION'].strip()\n",
    "    CANCELLED=row['CANCELLED'].strip()\n",
    "    \n",
    "    CAE_NATIONALID=row['CAE_NATIONALID'].strip()\n",
    "    CAE_ADDRESS=row['CAE_ADDRESS'].strip()\n",
    "    CAE_TOWN=row['CAE_TOWN'].strip()\n",
    "    CAE_POSTAL_CODE=row['CAE_POSTAL_CODE'].strip()\n",
    "    \n",
    "    CAE_TYPE=row['CAE_TYPE'].strip()\n",
    "    MAIN_ACTIVITY=row['MAIN_ACTIVITY'].strip()\n",
    "    B_ON_BEHALF=row['B_ON_BEHALF'].strip()\n",
    "    TYPE_OF_CONTRACT=row['TYPE_OF_CONTRACT'].strip()\n",
    "    TAL_LOCATION_NUTS=row['TAL_LOCATION_NUTS'].strip()\n",
    "    B_FRA_AGREEMENT=row['B_FRA_AGREEMENT'].strip()\n",
    "    B_DYN_PURCH_SYST=row['B_DYN_PURCH_SYST'].strip()\n",
    "    ADDITIONAL_CPVS=row['ADDITIONAL_CPVS'].strip()\n",
    "    B_GPA=row['B_GPA'].strip()\n",
    "    VALUE_EURO_FIN_1=None if row['VALUE_EURO_FIN_1']=='' else int(float(row['VALUE_EURO_FIN_1']))\n",
    "    VALUE_EURO_FIN_2=None if row['VALUE_EURO_FIN_2']=='' else int(float(row['VALUE_EURO_FIN_2']))\n",
    "    TOP_TYPE=row['TOP_TYPE'].strip()\n",
    "    CRIT_CODE=row['CRIT_CODE'].strip()\n",
    "    CRIT_CRITERIA=row['CRIT_CRITERIA'].strip()\n",
    "    CRIT_WEIGHTS=row['CRIT_WEIGHTS'].strip()\n",
    "    B_ELECTRONIC_AUCTION=row['B_ELECTRONIC_AUCTION'].strip()\n",
    "    NUMBER_AWARDS=None if row['NUMBER_AWARDS']=='' else int(float(row['NUMBER_AWARDS']))\n",
    "    \n",
    "    WIN_ADDRESS=row['WIN_ADDRESS'].strip()\n",
    "    WIN_TOWN=row['WIN_TOWN'].strip()\n",
    "    WIN_POSTAL_CODE=row['WIN_POSTAL_CODE'].strip()\n",
    "    \n",
    "    CONTRACT_NUMBER=row['CONTRACT_NUMBER'].strip()\n",
    "    LOT_NUMBER=row['LOT_NUMBER'].strip()\n",
    "    TITLE=row['TITLE'].strip()\n",
    "    NUMBER_OFFERS_ELECTR=None if row['NUMBER_OFFERS_ELECTR']=='' else int(float(row['NUMBER_OFFERS_ELECTR'])) \n",
    "    AWARD_EST_VALUE_EURO=None if row['AWARD_EST_VALUE_EURO']=='' else int(float(row['AWARD_EST_VALUE_EURO']))\n",
    "    AWARD_VALUE_EURO=None if row['AWARD_VALUE_EURO']=='' else int(float(row['AWARD_VALUE_EURO']))\n",
    "    VALUE_EURO_FIN_1_1=None if row['VALUE_EURO_FIN_1_1']=='' else int(float(row['VALUE_EURO_FIN_1_1']))\n",
    "    B_SUBCONTRACTED=row['B_SUBCONTRACTED'].strip()\n",
    "    B_EU_FUNDS=row['B_EU_FUNDS'].strip()\n",
    "    DT_AWARD=None if row['DT_AWARD']=='' else datetime.strptime(row['DT_AWARD'].strip(), '%d-%b-%y').strftime('%Y-%m-%d')\n",
    "    \n",
    "    awardNoticeRow=[\\\n",
    "                    dispatch_date,\\\n",
    "                    award_notice_id_link,\\\n",
    "                    contracting_authority_country,\\\n",
    "                    contracting_authority_name,\\\n",
    "                    contractor_country,\\\n",
    "                    contractor_name,\\\n",
    "                    contract_value_euros,\\\n",
    "                    number_offers_received,\\\n",
    "                    CPV_code,\\\n",
    "                      \n",
    "                    YEAR,\\\n",
    "                    ID_TYPE,\\\n",
    "                    XSD_VERSION,\\\n",
    "                    CANCELLED,\\\n",
    "                    \n",
    "                    CAE_NATIONALID,\\\n",
    "                    CAE_ADDRESS,\\\n",
    "                    CAE_TOWN,\\\n",
    "                    CAE_POSTAL_CODE,\\\n",
    "                    \n",
    "                    CAE_TYPE,\\\n",
    "                    MAIN_ACTIVITY,\\\n",
    "                    B_ON_BEHALF,\\\n",
    "                    TYPE_OF_CONTRACT,\\\n",
    "                    TAL_LOCATION_NUTS,\\\n",
    "                    B_FRA_AGREEMENT,\\\n",
    "                    B_DYN_PURCH_SYST,\\\n",
    "                    ADDITIONAL_CPVS,\\\n",
    "                    B_GPA,\\\n",
    "                    VALUE_EURO_FIN_1,\\\n",
    "                    VALUE_EURO_FIN_2,\\\n",
    "                    TOP_TYPE,\\\n",
    "                    CRIT_CODE,\\\n",
    "                    CRIT_CRITERIA,\\\n",
    "                    CRIT_WEIGHTS,\\\n",
    "                    B_ELECTRONIC_AUCTION,\\\n",
    "                    NUMBER_AWARDS,\\\n",
    "                    \n",
    "                    WIN_ADDRESS,\\\n",
    "                    WIN_TOWN,\\\n",
    "                    WIN_POSTAL_CODE,\\\n",
    "                    \n",
    "                    CONTRACT_NUMBER,\\\n",
    "                    LOT_NUMBER,\\\n",
    "                    TITLE,\\\n",
    "                    NUMBER_OFFERS_ELECTR,\\\n",
    "                    AWARD_EST_VALUE_EURO,\\\n",
    "                    AWARD_VALUE_EURO,\\\n",
    "                    VALUE_EURO_FIN_1_1,\\\n",
    "                    B_SUBCONTRACTED,\\\n",
    "                    B_EU_FUNDS,\\\n",
    "                    DT_AWARD\\\n",
    "                   \n",
    "                   ]\n",
    "    \n",
    "    awardNoticeRow=[None if elt==\"\" else elt for elt in awardNoticeRow] \n",
    "    awardNoticeRow=tuple(awardNoticeRow)\n",
    "    \n",
    "    return awardNoticeRow"
   ]
  },
  {
   "cell_type": "code",
   "execution_count": 58,
   "metadata": {
    "collapsed": false
   },
   "outputs": [],
   "source": [
    "schema = StructType([\n",
    "    StructField(\"Dispatch_Date\", StringType(), False),\n",
    "    StructField(\"Award_Notice_Id_Link\", StringType(), False),\n",
    "    StructField(\"Contracting_Authority_Country\", StringType(), False),\n",
    "    StructField(\"Contracting_Authority_Name\", StringType(), False),\n",
    "    StructField(\"Contractor_Country\", StringType(), False),\n",
    "    StructField(\"Contractor_Name\", StringType(), False),\n",
    "    StructField(\"Contract_Value_Euros\", IntegerType(), False),\n",
    "    StructField(\"Number_Offers_Received\", IntegerType(), False),\n",
    "    StructField(\"CPV_Code\", StringType(), False),\n",
    "    \n",
    "    StructField(\"YEAR\", IntegerType(), False),\n",
    "    StructField(\"ID_TYPE\", StringType(), False),\n",
    "    StructField(\"XSD_VERSION\", StringType(), False),\n",
    "    StructField(\"CANCELLED\", StringType(), False),\n",
    "    \n",
    "    StructField(\"CAE_NATIONALID\", StringType(), False),\n",
    "    StructField(\"CAE_ADDRESS\", StringType(), False),\n",
    "    StructField(\"CAE_TOWN\", StringType(), False),\n",
    "    StructField(\"CAE_POSTAL_CODE\", StringType(), False),\n",
    "    \n",
    "    StructField(\"CAE_TYPE\", StringType(), False),\n",
    "    StructField(\"MAIN_ACTIVITY\", StringType(), False),\n",
    "    StructField(\"B_ON_BEHALF\", StringType(), False),\n",
    "    StructField(\"TYPE_OF_CONTRACT\", StringType(), False),\n",
    "    StructField(\"TAL_LOCATION_NUTS\", StringType(), False),\n",
    "    StructField(\"B_FRA_AGREEMENT\", StringType(), False),\n",
    "    StructField(\"B_DYN_PURCH_SYST\", StringType(), False),\n",
    "    StructField(\"ADDITIONAL_CPVS\", StringType(), False),\n",
    "    StructField(\"B_GPA\", StringType(), False),\n",
    "    StructField(\"VALUE_EURO_FIN_1\", IntegerType(), False),\n",
    "    StructField(\"VALUE_EURO_FIN_2\", IntegerType(), False),\n",
    "    StructField(\"TOP_TYPE\", StringType(), False),\n",
    "    StructField(\"CRIT_CODE\", StringType(), False),\n",
    "    StructField(\"CRIT_CRITERIA\", StringType(), False),\n",
    "    StructField(\"CRIT_WEIGHTS\", StringType(), False),\n",
    "    StructField(\"B_ELECTRONIC_AUCTION\", StringType(), False),\n",
    "    StructField(\"NUMBER_AWARDS\", IntegerType(), False),\n",
    "    \n",
    "    StructField(\"WIN_ADDRESS\", StringType(), False),\n",
    "    StructField(\"WIN_TOWN\", StringType(), False),\n",
    "    StructField(\"WIN_POSTAL_CODE\", StringType(), False),\n",
    "    \n",
    "    StructField(\"CONTRACT_NUMBER\", StringType(), False),\n",
    "    StructField(\"LOT_NUMBER\", StringType(), False),\n",
    "    StructField(\"TITLE\", StringType(), False),\n",
    "    StructField(\"NUMBER_OFFERS_ELECTR\", IntegerType(), False),\n",
    "    StructField(\"AWARD_EST_VALUE_EURO\", IntegerType(), False),\n",
    "    StructField(\"AWARD_VALUE_EURO\", IntegerType(), False),\n",
    "    StructField(\"VALUE_EURO_FIN_1_1\", IntegerType(), False),\n",
    "    StructField(\"B_SUBCONTRACTED\", StringType(), False),\n",
    "    StructField(\"B_EU_FUNDS\", StringType(), False),\n",
    "    StructField(\"DT_AWARD\", StringType(), False)\n",
    "    ])\n"
   ]
  },
  {
   "cell_type": "markdown",
   "metadata": {},
   "source": [
    "## Load CSV data, convert, and save to parquet\n",
    "CSV files are in ../data\n",
    "\n",
    "Four files need to be processed:\n",
    "* TED_CAN_2006.csv\n",
    "* TED_CAN_2007.csv\n",
    "* TED_CAN_2008.csv\n",
    "* TED_CAN_2009_20015.csv\n",
    "\n",
    "which can be downloaded from https://data.europa.eu/euodp/en/data/dataset/ted-csv\n"
   ]
  },
  {
   "cell_type": "code",
   "execution_count": 71,
   "metadata": {
    "collapsed": false
   },
   "outputs": [],
   "source": [
    "pathData='../data/TED_CAN_2009_2015.csv'\n",
    "#pathData='../data/TED_CAN_2006.csv'\n"
   ]
  },
  {
   "cell_type": "markdown",
   "metadata": {},
   "source": [
    "### Load"
   ]
  },
  {
   "cell_type": "code",
   "execution_count": 72,
   "metadata": {
    "collapsed": false
   },
   "outputs": [],
   "source": [
    "csvfile = sqlContext.read.format('com.databricks.spark.csv',).options(header='true', inferschema='true').load(pathData)#.repartition(2000)\n",
    "csvfile.registerTempTable(\"csvData\");\n"
   ]
  },
  {
   "cell_type": "code",
   "execution_count": 75,
   "metadata": {
    "collapsed": false
   },
   "outputs": [
    {
     "data": {
      "text/plain": [
       "[Row(ID_NOTICE_CAN=u'201493', YEAR=u'2014', ID_TYPE=u'3', DT_DISPATCH=u'31-DEC-13', XSD_VERSION=u'R2.0.8.S02.E01', CANCELLED=u'0', CAE_NAME=u'Miejski Zarz\\u0105d Dr\\xf3g i Transportu w Cz\\u0119stochowie', CAE_NATIONALID=u'', CAE_ADDRESS=u'ul. Popie\\u0142uszki 4/6', CAE_TOWN=u'Cz\\u0119stochowa', CAE_POSTAL_CODE=u'42-217', ISO_COUNTRY_CODE=u'PL', CAE_TYPE=u'3', MAIN_ACTIVITY=u'General public\\\\services', B_ON_BEHALF=u'N', TYPE_OF_CONTRACT=u'W', TAL_LOCATION_NUTS=u'', B_FRA_AGREEMENT=u'', B_DYN_PURCH_SYST=u'', CPV=u'45233141', ADDITIONAL_CPVS=u'45233142,45233222,45233223,45233140', B_GPA=u'N', VALUE_EURO=u'7684624.43', VALUE_EURO_FIN_1=u'7684624.42', VALUE_EURO_FIN_2=u'7684624.42', TOP_TYPE=u'OPE', CRIT_CODE=u'L', CRIT_CRITERIA=u'', CRIT_WEIGHTS=u'', B_ELECTRONIC_AUCTION=u'N', NUMBER_AWARDS=u'3', ID_AWARD=u'6074163', CONTRACT_NUMBER=u'923/2013', LOT_NUMBER=u'', TITLE=u'Bie\\u017c\\u0105ce utrzymanie dr\\xf3g w granicach Miasta Cz\\u0119stochowa w rejonie I w okresie od dnia 1.1.2014 r. do 31.12.2016 r.', WIN_NAME=u'DROG-BUD Sp. z o.o.', WIN_ADDRESS=u'Lubojenka ul. Prosta 88/90', WIN_TOWN=u'Cz\\u0119stochowa', WIN_POSTAL_CODE=u'42-209', WIN_COUNTRY_CODE=u'PL', NUMBER_OFFERS=u'3', NUMBER_OFFERS_ELECTR=u'', AWARD_EST_VALUE_EURO=u'3497609.4', AWARD_VALUE_EURO=u'2765362.74', VALUE_EURO_FIN_1_1=u'2765362.74', B_SUBCONTRACTED=u'N', B_EU_FUNDS=u'N', DT_AWARD=u'18-DEC-13')]"
      ]
     },
     "execution_count": 75,
     "metadata": {},
     "output_type": "execute_result"
    }
   ],
   "source": [
    "csvfile.take(1)"
   ]
  },
  {
   "cell_type": "markdown",
   "metadata": {},
   "source": [
    "### Process"
   ]
  },
  {
   "cell_type": "code",
   "execution_count": 73,
   "metadata": {
    "collapsed": true
   },
   "outputs": [],
   "source": [
    "processedData=csvfile.map(process)\n",
    "df=processedData.toDF(schema)"
   ]
  },
  {
   "cell_type": "markdown",
   "metadata": {
    "collapsed": false
   },
   "source": [
    "### Save"
   ]
  },
  {
   "cell_type": "code",
   "execution_count": 74,
   "metadata": {
    "collapsed": false
   },
   "outputs": [],
   "source": [
    "df.write.mode('append').parquet('ted.parquet')"
   ]
  },
  {
   "cell_type": "code",
   "execution_count": null,
   "metadata": {
    "collapsed": true
   },
   "outputs": [],
   "source": []
  },
  {
   "cell_type": "code",
   "execution_count": 2,
   "metadata": {
    "collapsed": true
   },
   "outputs": [],
   "source": [
    "data=sqlContext.read.parquet(\"ted.parquet\")"
   ]
  },
  {
   "cell_type": "code",
   "execution_count": 4,
   "metadata": {
    "collapsed": true
   },
   "outputs": [],
   "source": [
    "data.registerTempTable(\"csvData\");"
   ]
  },
  {
   "cell_type": "code",
   "execution_count": 16,
   "metadata": {
    "collapsed": false
   },
   "outputs": [
    {
     "data": {
      "text/plain": [
       "[Row(Dispatch_Date=u'2006-12-28', Award_Notice_Id_Link=u\"<a href='http://ted.europa.eu/udl?uri=TED:NOTICE:60-2007:TEXT:EN:HTML' target='_blank'>60-2007</a>\", Contracting_Authority_Country=u'France', Contracting_Authority_Name=u\"Syndicat des Eaux d'Ile-de-France\", Contractor_Country=u'France', Contractor_Name=u'Grpt EI TEM / Axeau', Contract_Value_Euros=3212853, Number_Offers_Received=3, CPV_Code=u'29566000', YEAR=2007, ID_TYPE=u'3', XSD_VERSION=u'D205          ', CANCELLED=u'0', CAE_NATIONALID=None, CAE_ADDRESS=u'14, rue Saint Beno\\xeet', CAE_TOWN=u'Paris', CAE_POSTAL_CODE=u'75006', CAE_TYPE=u'3', MAIN_ACTIVITY=u'Environment', B_ON_BEHALF=u'N', TYPE_OF_CONTRACT=u'W', TAL_LOCATION_NUTS=None, B_FRA_AGREEMENT=None, B_DYN_PURCH_SYST=None, ADDITIONAL_CPVS=u'29122000,27220000,28814200,31200000', B_GPA=u'Y', VALUE_EURO_FIN_1=9751957, VALUE_EURO_FIN_2=9751957, CRIT_CODE=u'M', CRIT_CRITERIA=u'Prix.|Valeur technique.', CRIT_WEIGHTS=u'60|40', B_ELECTRONIC_AUCTION=u'N', NUMBER_AWARDS=4, WIN_ADDRESS=u'St\\xe9 EI TEM 5, rue des Garennes', WIN_TOWN=u'Gargenville', WIN_POSTAL_CODE=u'78440', CONTRACT_NUMBER=u'2006/43', LOT_NUMBER=None, TITLE=None, NUMBER_OFFERS_ELECTR=None, AWARD_EST_VALUE_EURO=4257000, AWARD_VALUE_EURO=3212853, VALUE_EURO_FIN_1_1=3212853, B_SUBCONTRACTED=u'N', B_EU_FUNDS=u'N', DT_AWARD=u'2006-06-15')]"
      ]
     },
     "execution_count": 16,
     "metadata": {},
     "output_type": "execute_result"
    }
   ],
   "source": [
    "sqlContext.sql(\"select * from csvData limit 1\").collect()"
   ]
  },
  {
   "cell_type": "code",
   "execution_count": 40,
   "metadata": {
    "collapsed": false
   },
   "outputs": [
    {
     "data": {
      "text/plain": [
       "[Row(CRIT_CODE=u'L'), Row(CRIT_CODE=u'M'), Row(CRIT_CODE=u'')]"
      ]
     },
     "execution_count": 40,
     "metadata": {},
     "output_type": "execute_result"
    }
   ],
   "source": [
    "sqlContext.sql(\"select distinct CRIT_CODE  from csvData\").collect()"
   ]
  },
  {
   "cell_type": "code",
   "execution_count": 56,
   "metadata": {
    "collapsed": false
   },
   "outputs": [
    {
     "data": {
      "text/plain": [
       "[Row(_c0=480127)]"
      ]
     },
     "execution_count": 56,
     "metadata": {},
     "output_type": "execute_result"
    }
   ],
   "source": [
    "sqlContext.sql(\"select count(*)   from csvData where XSD_VERSION='D207          '\").collect()"
   ]
  },
  {
   "cell_type": "code",
   "execution_count": 13,
   "metadata": {
    "collapsed": false
   },
   "outputs": [
    {
     "data": {
      "text/plain": [
       "[Row(_c0=0)]"
      ]
     },
     "execution_count": 13,
     "metadata": {},
     "output_type": "execute_result"
    }
   ],
   "source": [
    "sqlContext.sql(\"select count(*)   from csvData where Contracting_Authority_Country='Bulgaria' and YEAR='2006'\").collect()"
   ]
  },
  {
   "cell_type": "code",
   "execution_count": null,
   "metadata": {
    "collapsed": true
   },
   "outputs": [],
   "source": []
  }
 ],
 "metadata": {
  "kernelspec": {
   "display_name": "Python 2",
   "language": "python",
   "name": "python2"
  },
  "language_info": {
   "codemirror_mode": {
    "name": "ipython",
    "version": 2
   },
   "file_extension": ".py",
   "mimetype": "text/x-python",
   "name": "python",
   "nbconvert_exporter": "python",
   "pygments_lexer": "ipython2",
   "version": "2.7.11"
  }
 },
 "nbformat": 4,
 "nbformat_minor": 0
}
