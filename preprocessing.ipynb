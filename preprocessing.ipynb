{
 "cells": [
  {
   "cell_type": "markdown",
   "metadata": {},
   "source": [
    "# Preprocessing of TED CAN (contract award notices) CSV files"
   ]
  },
  {
   "cell_type": "code",
   "execution_count": 2,
   "metadata": {
    "collapsed": false
   },
   "outputs": [
    {
     "data": {
      "text/plain": [
       "DataFrame[key: string, value: string]"
      ]
     },
     "execution_count": 2,
     "metadata": {},
     "output_type": "execute_result"
    }
   ],
   "source": [
    "from pyspark import SparkContext, SparkConf\n",
    "from pyspark.sql import SQLContext, Row\n",
    "from pyspark.sql import HiveContext\n",
    "import json\n",
    "import time\n",
    "import sys\n",
    "from datetime import datetime\n",
    "from pyspark.sql.types import *\n",
    "import re\n",
    "\n",
    "nPartitions=4\n",
    "conf = (SparkConf()\n",
    "         .setMaster(\"local[\"+str(nPartitions)+\"]\")\n",
    "       )\n",
    "#sc.stop()\n",
    "sc = SparkContext(conf=conf)\n",
    "sqlContext = SQLContext(sc)\n",
    "sqlContext.sql(\"SET spark.sql.parquet.binaryAsString=true\")\n"
   ]
  },
  {
   "cell_type": "markdown",
   "metadata": {},
   "source": [
    "## Load country code file\n",
    "Used to match country ISO codes to country full names"
   ]
  },
  {
   "cell_type": "code",
   "execution_count": 12,
   "metadata": {
    "collapsed": true
   },
   "outputs": [],
   "source": [
    "countryCodesRaw = [line.rstrip() for line in open('code/data/countrycodes.csv')]"
   ]
  },
  {
   "cell_type": "code",
   "execution_count": 13,
   "metadata": {
    "collapsed": false
   },
   "outputs": [],
   "source": [
    "countryCodes = {}\n",
    "for i in range(len(countryCodesRaw)):\n",
    "    code_country=countryCodesRaw[i].split(' - ')\n",
    "    countryCodes[code_country[0]] = code_country[1]\n",
    "countryCodes['']=''"
   ]
  },
  {
   "cell_type": "markdown",
   "metadata": {},
   "source": [
    "## Load CPV meaning file"
   ]
  },
  {
   "cell_type": "code",
   "execution_count": 9,
   "metadata": {
    "collapsed": false
   },
   "outputs": [],
   "source": [
    "CPVmeaningRaw = [line.rstrip() for line in open('code/data/CPVmeaning.csv')]"
   ]
  },
  {
   "cell_type": "code",
   "execution_count": 31,
   "metadata": {
    "collapsed": true
   },
   "outputs": [],
   "source": [
    "CPVmeanings= {}\n",
    "for i in range(len(CPVmeaningRaw)):\n",
    "    CPV_meaning =CPVmeaningRaw[i].split(';')\n",
    "    CPVmeanings[CPV_meaning[0][0:8]] = CPV_meaning[1]\n",
    "CPVmeanings['']=''"
   ]
  },
  {
   "cell_type": "markdown",
   "metadata": {},
   "source": [
    "## CSV row processor and schema\n",
    "Convert CSV rows to nicer format and schema"
   ]
  },
  {
   "cell_type": "code",
   "execution_count": 138,
   "metadata": {
    "collapsed": false
   },
   "outputs": [],
   "source": [
    "def process(row):\n",
    "    \n",
    "    dispatch_date=datetime.strptime(row['DT_DISPATCH'], '%d-%b-%y').strftime('%Y-%m-%d')\n",
    "    award_notice_id=row['ID_NOTICE_CAN'].strip()\n",
    "    award_notice_id=award_notice_id[4:]+'-'+award_notice_id[0:4]\n",
    "    award_notice_id_link=\"<a href='http://ted.europa.eu/udl?uri=TED:NOTICE:\"+award_notice_id+\":TEXT:EN:HTML' target='_blank'>\"+award_notice_id+\"</a>\"\n",
    "    \n",
    "    contracting_authority_country=countryCodes[row['ISO_COUNTRY_CODE'].strip()]\n",
    "    contracting_authority_name=row['CAE_NAME'].replace (\"_\", \"-\").strip()\n",
    "    \n",
    "    contractor_country=countryCodes[row['WIN_COUNTRY_CODE'].strip()]\n",
    "    contractor_name=row['WIN_NAME'].replace (\"_\", \"-\").strip()\n",
    "    \n",
    "    contract_value_euros=None if row['AWARD_VALUE_EURO']=='' else int(float(row['AWARD_VALUE_EURO']))\n",
    "    number_offers_received=None if row['NUMBER_OFFERS']=='' else int(row['NUMBER_OFFERS'])\n",
    "    \n",
    "    CPV_code=row['CPV'].strip()\n",
    "    CPV_code_meaning=CPVmeanings[CPV_code]\n",
    "    #CPV_code_meaning=''\n",
    "    \n",
    "    YEAR=None if row['YEAR']=='' else int(row['YEAR'])\n",
    "    ID_TYPE=row['ID_TYPE'].strip()\n",
    "    XSD_VERSION=row['XSD_VERSION'].strip()\n",
    "    CANCELLED=row['CANCELLED'].strip()\n",
    "    \n",
    "    CAE_NATIONALID=row['CAE_NATIONALID'].strip()\n",
    "    CAE_ADDRESS=row['CAE_ADDRESS'].strip()\n",
    "    CAE_TOWN=row['CAE_TOWN'].strip()\n",
    "    CAE_POSTAL_CODE=row['CAE_POSTAL_CODE'].strip()\n",
    "    \n",
    "    CAE_TYPE=row['CAE_TYPE'].strip()\n",
    "    MAIN_ACTIVITY=row['MAIN_ACTIVITY'].strip()\n",
    "    B_ON_BEHALF=row['B_ON_BEHALF'].strip()\n",
    "    TYPE_OF_CONTRACT=row['TYPE_OF_CONTRACT'].strip()\n",
    "    TAL_LOCATION_NUTS=row['TAL_LOCATION_NUTS'].strip()\n",
    "    B_FRA_AGREEMENT=row['B_FRA_AGREEMENT'].strip()\n",
    "    B_DYN_PURCH_SYST=row['B_DYN_PURCH_SYST'].strip()\n",
    "    ADDITIONAL_CPVS=row['ADDITIONAL_CPVS'].strip()\n",
    "    B_GPA=row['B_GPA'].strip()\n",
    "    VALUE_EURO_FIN_1=None if row['VALUE_EURO_FIN_1']=='' else int(float(row['VALUE_EURO_FIN_1']))\n",
    "    VALUE_EURO_FIN_2=None if row['VALUE_EURO_FIN_2']=='' else int(float(row['VALUE_EURO_FIN_2']))\n",
    "    TOP_TYPE=row['TOP_TYPE'].strip()\n",
    "    CRIT_CODE=row['CRIT_CODE'].strip()\n",
    "    CRIT_CRITERIA=row['CRIT_CRITERIA'].strip()\n",
    "    CRIT_WEIGHTS=row['CRIT_WEIGHTS'].strip()\n",
    "    B_ELECTRONIC_AUCTION=row['B_ELECTRONIC_AUCTION'].strip()\n",
    "    NUMBER_AWARDS=None if row['NUMBER_AWARDS']=='' else int(float(row['NUMBER_AWARDS']))\n",
    "    \n",
    "    WIN_ADDRESS=row['WIN_ADDRESS'].strip()\n",
    "    WIN_TOWN=row['WIN_TOWN'].strip()\n",
    "    WIN_POSTAL_CODE=row['WIN_POSTAL_CODE'].strip()\n",
    "    \n",
    "    ID_AWARD=row['ID_AWARD'].strip()\n",
    "    CONTRACT_NUMBER=row['CONTRACT_NUMBER'].strip()\n",
    "    LOT_NUMBER=row['LOT_NUMBER'].strip()\n",
    "    TITLE=row['TITLE'].strip()\n",
    "    NUMBER_OFFERS_ELECTR=None if row['NUMBER_OFFERS_ELECTR']=='' else int(float(row['NUMBER_OFFERS_ELECTR'])) \n",
    "    AWARD_EST_VALUE_EURO=None if row['AWARD_EST_VALUE_EURO']=='' else int(float(row['AWARD_EST_VALUE_EURO']))\n",
    "    AWARD_VALUE_EURO=None if row['AWARD_VALUE_EURO']=='' else int(float(row['AWARD_VALUE_EURO']))\n",
    "    VALUE_EURO_FIN_1_1=None if row['VALUE_EURO_FIN_1_1']=='' else int(float(row['VALUE_EURO_FIN_1_1']))\n",
    "    B_SUBCONTRACTED=row['B_SUBCONTRACTED'].strip()\n",
    "    B_EU_FUNDS=row['B_EU_FUNDS'].strip()\n",
    "    DT_AWARD=None if row['DT_AWARD']=='' else datetime.strptime(row['DT_AWARD'].strip(), '%d-%b-%y').strftime('%Y-%m-%d')\n",
    "    \n",
    "    awardNoticeRow=[\\\n",
    "                    contracting_authority_country,\\\n",
    "                    contracting_authority_name,\\\n",
    "                    dispatch_date,\\\n",
    "                    CPV_code_meaning,\\\n",
    "                    contractor_country,\\\n",
    "                    contractor_name,\\\n",
    "                    contract_value_euros,\\\n",
    "                    number_offers_received,\\\n",
    "                    CPV_code,\\\n",
    "                    award_notice_id_link,\\\n",
    "                      \n",
    "                    YEAR,\\\n",
    "                    ID_TYPE,\\\n",
    "                    XSD_VERSION,\\\n",
    "                    CANCELLED,\\\n",
    "                    \n",
    "                    CAE_NATIONALID,\\\n",
    "                    CAE_ADDRESS,\\\n",
    "                    CAE_TOWN,\\\n",
    "                    CAE_POSTAL_CODE,\\\n",
    "                    \n",
    "                    CAE_TYPE,\\\n",
    "                    MAIN_ACTIVITY,\\\n",
    "                    B_ON_BEHALF,\\\n",
    "                    TYPE_OF_CONTRACT,\\\n",
    "                    TAL_LOCATION_NUTS,\\\n",
    "                    B_FRA_AGREEMENT,\\\n",
    "                    B_DYN_PURCH_SYST,\\\n",
    "                    ADDITIONAL_CPVS,\\\n",
    "                    B_GPA,\\\n",
    "                    VALUE_EURO_FIN_1,\\\n",
    "                    VALUE_EURO_FIN_2,\\\n",
    "                    TOP_TYPE,\\\n",
    "                    CRIT_CODE,\\\n",
    "                    CRIT_CRITERIA,\\\n",
    "                    CRIT_WEIGHTS,\\\n",
    "                    B_ELECTRONIC_AUCTION,\\\n",
    "                    NUMBER_AWARDS,\\\n",
    "                    \n",
    "                    WIN_ADDRESS,\\\n",
    "                    WIN_TOWN,\\\n",
    "                    WIN_POSTAL_CODE,\\\n",
    "                    \n",
    "                    ID_AWARD,\\\n",
    "                    CONTRACT_NUMBER,\\\n",
    "                    LOT_NUMBER,\\\n",
    "                    TITLE,\\\n",
    "                    NUMBER_OFFERS_ELECTR,\\\n",
    "                    AWARD_EST_VALUE_EURO,\\\n",
    "                    AWARD_VALUE_EURO,\\\n",
    "                    VALUE_EURO_FIN_1_1,\\\n",
    "                    B_SUBCONTRACTED,\\\n",
    "                    B_EU_FUNDS,\\\n",
    "                    DT_AWARD\\\n",
    "                   \n",
    "                   ]\n",
    "    \n",
    "    awardNoticeRow=[None if elt==\"\" else elt for elt in awardNoticeRow] \n",
    "    awardNoticeRow=tuple(awardNoticeRow)\n",
    "    \n",
    "    return awardNoticeRow"
   ]
  },
  {
   "cell_type": "code",
   "execution_count": 139,
   "metadata": {
    "collapsed": false
   },
   "outputs": [],
   "source": [
    "schema = StructType([\n",
    "    StructField(\"Contracting_Authority_Country\", StringType(), False),\n",
    "    StructField(\"Contracting_Authority_Name\", StringType(), False),\n",
    "    StructField(\"Dispatch_Date\", StringType(), False),\n",
    "    StructField(\"CPV_Code_Meaning\", StringType(), False),\n",
    "    StructField(\"Contractor_Country\", StringType(), False),\n",
    "    StructField(\"Contractor_Name\", StringType(), False),\n",
    "    StructField(\"Contract_Value_Euros\", IntegerType(), False),\n",
    "    StructField(\"Number_Offers_Received\", IntegerType(), False),\n",
    "    StructField(\"CPV_Code\", StringType(), False),\n",
    "    StructField(\"Award_Notice_Id_Link\", StringType(), False),\n",
    "    \n",
    "    StructField(\"YEAR\", IntegerType(), False),\n",
    "    StructField(\"ID_TYPE\", StringType(), False),\n",
    "    StructField(\"XSD_VERSION\", StringType(), False),\n",
    "    StructField(\"CANCELLED\", StringType(), False),\n",
    "    \n",
    "    StructField(\"CAE_NATIONALID\", StringType(), False),\n",
    "    StructField(\"CAE_ADDRESS\", StringType(), False),\n",
    "    StructField(\"CAE_TOWN\", StringType(), False),\n",
    "    StructField(\"CAE_POSTAL_CODE\", StringType(), False),\n",
    "    \n",
    "    StructField(\"CAE_TYPE\", StringType(), False),\n",
    "    StructField(\"MAIN_ACTIVITY\", StringType(), False),\n",
    "    StructField(\"B_ON_BEHALF\", StringType(), False),\n",
    "    StructField(\"TYPE_OF_CONTRACT\", StringType(), False),\n",
    "    StructField(\"TAL_LOCATION_NUTS\", StringType(), False),\n",
    "    StructField(\"B_FRA_AGREEMENT\", StringType(), False),\n",
    "    StructField(\"B_DYN_PURCH_SYST\", StringType(), False),\n",
    "    StructField(\"ADDITIONAL_CPVS\", StringType(), False),\n",
    "    StructField(\"B_GPA\", StringType(), False),\n",
    "    StructField(\"VALUE_EURO_FIN_1\", IntegerType(), False),\n",
    "    StructField(\"VALUE_EURO_FIN_2\", IntegerType(), False),\n",
    "    StructField(\"TOP_TYPE\", StringType(), False),\n",
    "    StructField(\"CRIT_CODE\", StringType(), False),\n",
    "    StructField(\"CRIT_CRITERIA\", StringType(), False),\n",
    "    StructField(\"CRIT_WEIGHTS\", StringType(), False),\n",
    "    StructField(\"B_ELECTRONIC_AUCTION\", StringType(), False),\n",
    "    StructField(\"NUMBER_AWARDS\", IntegerType(), False),\n",
    "    \n",
    "    StructField(\"WIN_ADDRESS\", StringType(), False),\n",
    "    StructField(\"WIN_TOWN\", StringType(), False),\n",
    "    StructField(\"WIN_POSTAL_CODE\", StringType(), False),\n",
    "    \n",
    "    StructField(\"ID_AWARD\", StringType(), False),\n",
    "    StructField(\"CONTRACT_NUMBER\", StringType(), False),\n",
    "    StructField(\"LOT_NUMBER\", StringType(), False),\n",
    "    StructField(\"TITLE\", StringType(), False),\n",
    "    StructField(\"NUMBER_OFFERS_ELECTR\", IntegerType(), False),\n",
    "    StructField(\"AWARD_EST_VALUE_EURO\", IntegerType(), False),\n",
    "    StructField(\"AWARD_VALUE_EURO\", IntegerType(), False),\n",
    "    StructField(\"VALUE_EURO_FIN_1_1\", IntegerType(), False),\n",
    "    StructField(\"B_SUBCONTRACTED\", StringType(), False),\n",
    "    StructField(\"B_EU_FUNDS\", StringType(), False),\n",
    "    StructField(\"DT_AWARD\", StringType(), False)\n",
    "    ])\n"
   ]
  },
  {
   "cell_type": "markdown",
   "metadata": {},
   "source": [
    "## Load CSV data, convert, and save to parquet\n",
    "CSV files are in ../data\n",
    "\n",
    "Four files need to be processed:\n",
    "* TED_CAN_2006.csv\n",
    "* TED_CAN_2007.csv\n",
    "* TED_CAN_2008.csv\n",
    "* TED_CAN_2009_20015.csv\n",
    "\n",
    "which can be downloaded from https://data.europa.eu/euodp/en/data/dataset/ted-csv\n"
   ]
  },
  {
   "cell_type": "code",
   "execution_count": 140,
   "metadata": {
    "collapsed": false
   },
   "outputs": [],
   "source": [
    "pathData='data/TED_CAN_2009_2015.csv'\n",
    "#pathData='data/TED_CAN_2008.csv'\n"
   ]
  },
  {
   "cell_type": "markdown",
   "metadata": {},
   "source": [
    "### Load"
   ]
  },
  {
   "cell_type": "code",
   "execution_count": 141,
   "metadata": {
    "collapsed": false
   },
   "outputs": [],
   "source": [
    "csvfile = sqlContext.read.format('com.databricks.spark.csv',).options(header='true', inferschema='true').load(pathData)#.repartition(2000)\n",
    "csvfile.registerTempTable(\"csvData\");\n"
   ]
  },
  {
   "cell_type": "markdown",
   "metadata": {},
   "source": [
    "### Process"
   ]
  },
  {
   "cell_type": "code",
   "execution_count": 142,
   "metadata": {
    "collapsed": true
   },
   "outputs": [],
   "source": [
    "processedData=csvfile.map(process)\n",
    "df=processedData.toDF(schema)"
   ]
  },
  {
   "cell_type": "markdown",
   "metadata": {
    "collapsed": false
   },
   "source": [
    "### Save"
   ]
  },
  {
   "cell_type": "code",
   "execution_count": 143,
   "metadata": {
    "collapsed": false
   },
   "outputs": [],
   "source": [
    "df.write.mode('append').parquet('ted.parquet')"
   ]
  },
  {
   "cell_type": "code",
   "execution_count": null,
   "metadata": {
    "collapsed": true
   },
   "outputs": [],
   "source": []
  }
 ],
 "metadata": {
  "kernelspec": {
   "display_name": "Python 2",
   "language": "python",
   "name": "python2"
  },
  "language_info": {
   "codemirror_mode": {
    "name": "ipython",
    "version": 2
   },
   "file_extension": ".py",
   "mimetype": "text/x-python",
   "name": "python",
   "nbconvert_exporter": "python",
   "pygments_lexer": "ipython2",
   "version": "2.7.11"
  }
 },
 "nbformat": 4,
 "nbformat_minor": 0
}
